{
 "cells": [
  {
   "cell_type": "markdown",
   "id": "4bc7c72c",
   "metadata": {
    "id": "0q2SVEW-op6R",
    "papermill": {
     "duration": 0.005464,
     "end_time": "2023-03-08T14:37:58.978661",
     "exception": false,
     "start_time": "2023-03-08T14:37:58.973197",
     "status": "completed"
    },
    "tags": []
   },
   "source": [
    "# **Icecream Revenue Prediction**"
   ]
  },
  {
   "cell_type": "code",
   "execution_count": 1,
   "id": "4868a7b7",
   "metadata": {
    "execution": {
     "iopub.execute_input": "2023-03-08T14:37:59.004049Z",
     "iopub.status.busy": "2023-03-08T14:37:59.003010Z",
     "iopub.status.idle": "2023-03-08T14:37:59.016073Z",
     "shell.execute_reply": "2023-03-08T14:37:59.014852Z"
    },
    "id": "iwJw4s_Qop6S",
    "papermill": {
     "duration": 0.023469,
     "end_time": "2023-03-08T14:37:59.019001",
     "exception": false,
     "start_time": "2023-03-08T14:37:58.995532",
     "status": "completed"
    },
    "tags": []
   },
   "outputs": [],
   "source": [
    "# Step 1 : import library\n",
    "import pandas as pd"
   ]
  },
  {
   "cell_type": "code",
   "execution_count": 2,
   "id": "bdb0d34b",
   "metadata": {
    "execution": {
     "iopub.execute_input": "2023-03-08T14:37:59.033385Z",
     "iopub.status.busy": "2023-03-08T14:37:59.032573Z",
     "iopub.status.idle": "2023-03-08T14:37:59.857339Z",
     "shell.execute_reply": "2023-03-08T14:37:59.856030Z"
    },
    "id": "PQt1EDrfop6S",
    "papermill": {
     "duration": 0.835591,
     "end_time": "2023-03-08T14:37:59.860681",
     "exception": false,
     "start_time": "2023-03-08T14:37:59.025090",
     "status": "completed"
    },
    "tags": []
   },
   "outputs": [],
   "source": [
    "# Step 2 : import data\n",
    "icecream = pd.read_csv('https://github.com/ybifoundation/Dataset/raw/main/Ice%20Cream.csv')"
   ]
  },
  {
   "cell_type": "code",
   "execution_count": 3,
   "id": "4934bbe9",
   "metadata": {
    "execution": {
     "iopub.execute_input": "2023-03-08T14:37:59.875467Z",
     "iopub.status.busy": "2023-03-08T14:37:59.874316Z",
     "iopub.status.idle": "2023-03-08T14:37:59.880447Z",
     "shell.execute_reply": "2023-03-08T14:37:59.878894Z"
    },
    "id": "-CAry76Eop6S",
    "papermill": {
     "duration": 0.016431,
     "end_time": "2023-03-08T14:37:59.883214",
     "exception": false,
     "start_time": "2023-03-08T14:37:59.866783",
     "status": "completed"
    },
    "tags": []
   },
   "outputs": [],
   "source": [
    "# Step 3 : define target (y) and features (X)"
   ]
  },
  {
   "cell_type": "code",
   "execution_count": 4,
   "id": "6ffa7117",
   "metadata": {
    "execution": {
     "iopub.execute_input": "2023-03-08T14:37:59.898556Z",
     "iopub.status.busy": "2023-03-08T14:37:59.897096Z",
     "iopub.status.idle": "2023-03-08T14:37:59.907545Z",
     "shell.execute_reply": "2023-03-08T14:37:59.906571Z"
    },
    "id": "o_YlJ5IJop6S",
    "outputId": "ca1c5a83-151b-4853-906d-07a44d84fb68",
    "papermill": {
     "duration": 0.021546,
     "end_time": "2023-03-08T14:37:59.910773",
     "exception": false,
     "start_time": "2023-03-08T14:37:59.889227",
     "status": "completed"
    },
    "tags": []
   },
   "outputs": [
    {
     "data": {
      "text/plain": [
       "Index(['Temperature', 'Revenue'], dtype='object')"
      ]
     },
     "execution_count": 4,
     "metadata": {},
     "output_type": "execute_result"
    }
   ],
   "source": [
    "icecream.columns"
   ]
  },
  {
   "cell_type": "code",
   "execution_count": 5,
   "id": "a7fac995",
   "metadata": {
    "execution": {
     "iopub.execute_input": "2023-03-08T14:37:59.928143Z",
     "iopub.status.busy": "2023-03-08T14:37:59.927547Z",
     "iopub.status.idle": "2023-03-08T14:37:59.940808Z",
     "shell.execute_reply": "2023-03-08T14:37:59.939604Z"
    },
    "id": "08-QSF95op6S",
    "papermill": {
     "duration": 0.026445,
     "end_time": "2023-03-08T14:37:59.944475",
     "exception": false,
     "start_time": "2023-03-08T14:37:59.918030",
     "status": "completed"
    },
    "tags": []
   },
   "outputs": [],
   "source": [
    "y = icecream['Revenue']"
   ]
  },
  {
   "cell_type": "code",
   "execution_count": 6,
   "id": "0ec837ee",
   "metadata": {
    "execution": {
     "iopub.execute_input": "2023-03-08T14:37:59.960799Z",
     "iopub.status.busy": "2023-03-08T14:37:59.959783Z",
     "iopub.status.idle": "2023-03-08T14:37:59.970398Z",
     "shell.execute_reply": "2023-03-08T14:37:59.968791Z"
    },
    "id": "VIPAf6dzop6S",
    "papermill": {
     "duration": 0.022273,
     "end_time": "2023-03-08T14:37:59.973230",
     "exception": false,
     "start_time": "2023-03-08T14:37:59.950957",
     "status": "completed"
    },
    "tags": []
   },
   "outputs": [],
   "source": [
    "X = icecream[['Temperature']]"
   ]
  },
  {
   "cell_type": "code",
   "execution_count": 7,
   "id": "83975d1d",
   "metadata": {
    "execution": {
     "iopub.execute_input": "2023-03-08T14:37:59.988616Z",
     "iopub.status.busy": "2023-03-08T14:37:59.988219Z",
     "iopub.status.idle": "2023-03-08T14:38:01.232153Z",
     "shell.execute_reply": "2023-03-08T14:38:01.230315Z"
    },
    "id": "UCQeKjCZop6S",
    "papermill": {
     "duration": 1.255829,
     "end_time": "2023-03-08T14:38:01.235717",
     "exception": false,
     "start_time": "2023-03-08T14:37:59.979888",
     "status": "completed"
    },
    "tags": []
   },
   "outputs": [],
   "source": [
    "# Step 4 : train test split\n",
    "from sklearn.model_selection import train_test_split\n",
    "X_train, X_test, y_train, y_test = train_test_split(X,y, train_size=0.7, random_state=2529)"
   ]
  },
  {
   "cell_type": "code",
   "execution_count": 8,
   "id": "3964c4b5",
   "metadata": {
    "execution": {
     "iopub.execute_input": "2023-03-08T14:38:01.256361Z",
     "iopub.status.busy": "2023-03-08T14:38:01.255186Z",
     "iopub.status.idle": "2023-03-08T14:38:01.264835Z",
     "shell.execute_reply": "2023-03-08T14:38:01.263649Z"
    },
    "id": "j-pCpKvBop6T",
    "outputId": "080f40be-85fe-44ae-f004-f353d047c025",
    "papermill": {
     "duration": 0.022794,
     "end_time": "2023-03-08T14:38:01.267547",
     "exception": false,
     "start_time": "2023-03-08T14:38:01.244753",
     "status": "completed"
    },
    "tags": []
   },
   "outputs": [
    {
     "data": {
      "text/plain": [
       "((350, 1), (150, 1), (350,), (150,))"
      ]
     },
     "execution_count": 8,
     "metadata": {},
     "output_type": "execute_result"
    }
   ],
   "source": [
    "# check shape of train and test sample\n",
    "X_train.shape, X_test.shape, y_train.shape, y_test.shape"
   ]
  },
  {
   "cell_type": "code",
   "execution_count": 9,
   "id": "ea9e3ebd",
   "metadata": {
    "execution": {
     "iopub.execute_input": "2023-03-08T14:38:01.282876Z",
     "iopub.status.busy": "2023-03-08T14:38:01.282459Z",
     "iopub.status.idle": "2023-03-08T14:38:01.395167Z",
     "shell.execute_reply": "2023-03-08T14:38:01.393793Z"
    },
    "id": "e-YaQ1cnop6T",
    "papermill": {
     "duration": 0.123639,
     "end_time": "2023-03-08T14:38:01.398051",
     "exception": false,
     "start_time": "2023-03-08T14:38:01.274412",
     "status": "completed"
    },
    "tags": []
   },
   "outputs": [],
   "source": [
    "# Step 5 : select model\n",
    "from sklearn.linear_model import LinearRegression\n",
    "model = LinearRegression()"
   ]
  },
  {
   "cell_type": "code",
   "execution_count": 10,
   "id": "68b5bd80",
   "metadata": {
    "execution": {
     "iopub.execute_input": "2023-03-08T14:38:01.413217Z",
     "iopub.status.busy": "2023-03-08T14:38:01.412496Z",
     "iopub.status.idle": "2023-03-08T14:38:01.442627Z",
     "shell.execute_reply": "2023-03-08T14:38:01.441381Z"
    },
    "id": "OoCiQkGdop6T",
    "outputId": "8c327946-49e3-41c7-a601-84aee9bb7255",
    "papermill": {
     "duration": 0.040999,
     "end_time": "2023-03-08T14:38:01.445559",
     "exception": false,
     "start_time": "2023-03-08T14:38:01.404560",
     "status": "completed"
    },
    "tags": []
   },
   "outputs": [
    {
     "data": {
      "text/html": [
       "<style>#sk-container-id-1 {color: black;background-color: white;}#sk-container-id-1 pre{padding: 0;}#sk-container-id-1 div.sk-toggleable {background-color: white;}#sk-container-id-1 label.sk-toggleable__label {cursor: pointer;display: block;width: 100%;margin-bottom: 0;padding: 0.3em;box-sizing: border-box;text-align: center;}#sk-container-id-1 label.sk-toggleable__label-arrow:before {content: \"▸\";float: left;margin-right: 0.25em;color: #696969;}#sk-container-id-1 label.sk-toggleable__label-arrow:hover:before {color: black;}#sk-container-id-1 div.sk-estimator:hover label.sk-toggleable__label-arrow:before {color: black;}#sk-container-id-1 div.sk-toggleable__content {max-height: 0;max-width: 0;overflow: hidden;text-align: left;background-color: #f0f8ff;}#sk-container-id-1 div.sk-toggleable__content pre {margin: 0.2em;color: black;border-radius: 0.25em;background-color: #f0f8ff;}#sk-container-id-1 input.sk-toggleable__control:checked~div.sk-toggleable__content {max-height: 200px;max-width: 100%;overflow: auto;}#sk-container-id-1 input.sk-toggleable__control:checked~label.sk-toggleable__label-arrow:before {content: \"▾\";}#sk-container-id-1 div.sk-estimator input.sk-toggleable__control:checked~label.sk-toggleable__label {background-color: #d4ebff;}#sk-container-id-1 div.sk-label input.sk-toggleable__control:checked~label.sk-toggleable__label {background-color: #d4ebff;}#sk-container-id-1 input.sk-hidden--visually {border: 0;clip: rect(1px 1px 1px 1px);clip: rect(1px, 1px, 1px, 1px);height: 1px;margin: -1px;overflow: hidden;padding: 0;position: absolute;width: 1px;}#sk-container-id-1 div.sk-estimator {font-family: monospace;background-color: #f0f8ff;border: 1px dotted black;border-radius: 0.25em;box-sizing: border-box;margin-bottom: 0.5em;}#sk-container-id-1 div.sk-estimator:hover {background-color: #d4ebff;}#sk-container-id-1 div.sk-parallel-item::after {content: \"\";width: 100%;border-bottom: 1px solid gray;flex-grow: 1;}#sk-container-id-1 div.sk-label:hover label.sk-toggleable__label {background-color: #d4ebff;}#sk-container-id-1 div.sk-serial::before {content: \"\";position: absolute;border-left: 1px solid gray;box-sizing: border-box;top: 0;bottom: 0;left: 50%;z-index: 0;}#sk-container-id-1 div.sk-serial {display: flex;flex-direction: column;align-items: center;background-color: white;padding-right: 0.2em;padding-left: 0.2em;position: relative;}#sk-container-id-1 div.sk-item {position: relative;z-index: 1;}#sk-container-id-1 div.sk-parallel {display: flex;align-items: stretch;justify-content: center;background-color: white;position: relative;}#sk-container-id-1 div.sk-item::before, #sk-container-id-1 div.sk-parallel-item::before {content: \"\";position: absolute;border-left: 1px solid gray;box-sizing: border-box;top: 0;bottom: 0;left: 50%;z-index: -1;}#sk-container-id-1 div.sk-parallel-item {display: flex;flex-direction: column;z-index: 1;position: relative;background-color: white;}#sk-container-id-1 div.sk-parallel-item:first-child::after {align-self: flex-end;width: 50%;}#sk-container-id-1 div.sk-parallel-item:last-child::after {align-self: flex-start;width: 50%;}#sk-container-id-1 div.sk-parallel-item:only-child::after {width: 0;}#sk-container-id-1 div.sk-dashed-wrapped {border: 1px dashed gray;margin: 0 0.4em 0.5em 0.4em;box-sizing: border-box;padding-bottom: 0.4em;background-color: white;}#sk-container-id-1 div.sk-label label {font-family: monospace;font-weight: bold;display: inline-block;line-height: 1.2em;}#sk-container-id-1 div.sk-label-container {text-align: center;}#sk-container-id-1 div.sk-container {/* jupyter's `normalize.less` sets `[hidden] { display: none; }` but bootstrap.min.css set `[hidden] { display: none !important; }` so we also need the `!important` here to be able to override the default hidden behavior on the sphinx rendered scikit-learn.org. See: https://github.com/scikit-learn/scikit-learn/issues/21755 */display: inline-block !important;position: relative;}#sk-container-id-1 div.sk-text-repr-fallback {display: none;}</style><div id=\"sk-container-id-1\" class=\"sk-top-container\"><div class=\"sk-text-repr-fallback\"><pre>LinearRegression()</pre><b>In a Jupyter environment, please rerun this cell to show the HTML representation or trust the notebook. <br />On GitHub, the HTML representation is unable to render, please try loading this page with nbviewer.org.</b></div><div class=\"sk-container\" hidden><div class=\"sk-item\"><div class=\"sk-estimator sk-toggleable\"><input class=\"sk-toggleable__control sk-hidden--visually\" id=\"sk-estimator-id-1\" type=\"checkbox\" checked><label for=\"sk-estimator-id-1\" class=\"sk-toggleable__label sk-toggleable__label-arrow\">LinearRegression</label><div class=\"sk-toggleable__content\"><pre>LinearRegression()</pre></div></div></div></div></div>"
      ],
      "text/plain": [
       "LinearRegression()"
      ]
     },
     "execution_count": 10,
     "metadata": {},
     "output_type": "execute_result"
    }
   ],
   "source": [
    "# Step 6 : train or fit model\n",
    "model.fit(X_train,y_train)"
   ]
  },
  {
   "cell_type": "code",
   "execution_count": 11,
   "id": "321a520d",
   "metadata": {
    "execution": {
     "iopub.execute_input": "2023-03-08T14:38:01.461944Z",
     "iopub.status.busy": "2023-03-08T14:38:01.460960Z",
     "iopub.status.idle": "2023-03-08T14:38:01.471681Z",
     "shell.execute_reply": "2023-03-08T14:38:01.470286Z"
    },
    "id": "Admczk5cop6T",
    "outputId": "98793cd2-06b9-49dc-e5ff-af7ce7723f08",
    "papermill": {
     "duration": 0.022072,
     "end_time": "2023-03-08T14:38:01.474512",
     "exception": false,
     "start_time": "2023-03-08T14:38:01.452440",
     "status": "completed"
    },
    "tags": []
   },
   "outputs": [
    {
     "data": {
      "text/plain": [
       "42.44477259083959"
      ]
     },
     "execution_count": 11,
     "metadata": {},
     "output_type": "execute_result"
    }
   ],
   "source": [
    "model.intercept_"
   ]
  },
  {
   "cell_type": "code",
   "execution_count": 12,
   "id": "621c6665",
   "metadata": {
    "execution": {
     "iopub.execute_input": "2023-03-08T14:38:01.490311Z",
     "iopub.status.busy": "2023-03-08T14:38:01.489878Z",
     "iopub.status.idle": "2023-03-08T14:38:01.498071Z",
     "shell.execute_reply": "2023-03-08T14:38:01.496815Z"
    },
    "id": "wzU9yTqDop6T",
    "outputId": "b5cac20d-c631-4e10-c723-7cd5bda1c6a8",
    "papermill": {
     "duration": 0.019386,
     "end_time": "2023-03-08T14:38:01.500851",
     "exception": false,
     "start_time": "2023-03-08T14:38:01.481465",
     "status": "completed"
    },
    "tags": []
   },
   "outputs": [
    {
     "data": {
      "text/plain": [
       "array([21.54587147])"
      ]
     },
     "execution_count": 12,
     "metadata": {},
     "output_type": "execute_result"
    }
   ],
   "source": [
    "model.coef_"
   ]
  },
  {
   "cell_type": "code",
   "execution_count": 13,
   "id": "647476eb",
   "metadata": {
    "execution": {
     "iopub.execute_input": "2023-03-08T14:38:01.516818Z",
     "iopub.status.busy": "2023-03-08T14:38:01.516398Z",
     "iopub.status.idle": "2023-03-08T14:38:01.523734Z",
     "shell.execute_reply": "2023-03-08T14:38:01.522417Z"
    },
    "id": "iY2R4hZLop6T",
    "papermill": {
     "duration": 0.018114,
     "end_time": "2023-03-08T14:38:01.526135",
     "exception": false,
     "start_time": "2023-03-08T14:38:01.508021",
     "status": "completed"
    },
    "tags": []
   },
   "outputs": [],
   "source": [
    "# Step 7 : predict model\n",
    "y_pred = model.predict(X_test)"
   ]
  },
  {
   "cell_type": "code",
   "execution_count": 14,
   "id": "14c27651",
   "metadata": {
    "execution": {
     "iopub.execute_input": "2023-03-08T14:38:01.544189Z",
     "iopub.status.busy": "2023-03-08T14:38:01.542740Z",
     "iopub.status.idle": "2023-03-08T14:38:01.552788Z",
     "shell.execute_reply": "2023-03-08T14:38:01.551399Z"
    },
    "id": "oeK-y-1wop6T",
    "outputId": "ccac5cc1-dbd9-464b-84f3-7d5cb126ed75",
    "papermill": {
     "duration": 0.021854,
     "end_time": "2023-03-08T14:38:01.555514",
     "exception": false,
     "start_time": "2023-03-08T14:38:01.533660",
     "status": "completed"
    },
    "tags": []
   },
   "outputs": [
    {
     "data": {
      "text/plain": [
       "array([645.7291738 , 380.7149547 , 180.33835001, 247.13055157,\n",
       "       415.18834905, 283.75853308, 372.09660611, 671.58421957,\n",
       "       675.89339386, 684.51174245, 531.536055  , 613.41036659,\n",
       "       361.32367037, 303.1498174 , 158.79247854, 473.36220203,\n",
       "       611.25577945, 615.56495374, 512.14477068, 805.16862269,\n",
       "       268.67642305, 441.04339482, 436.73422053, 861.18788852,\n",
       "       531.536055  , 216.96633151, 725.44889825, 311.76816599,\n",
       "       505.68100924, 466.89844059, 684.51174245, 960.29889729,\n",
       "       550.92733933, 615.56495374, 367.78743182, 404.41541332,\n",
       "       413.03376191, 662.96587098, 876.26999855, 544.46357788,\n",
       "       811.63238414, 686.6663296 , 486.28972491, 322.54110172,\n",
       "       637.11082521, 798.70486125, 438.88880767, 790.08651266,\n",
       "       684.51174245, 497.06266065, 380.7149547 , 479.82596347,\n",
       "       479.82596347, 563.85486221, 665.12045813, 453.9709177 ,\n",
       "       688.82091675, 647.88376095, 391.48789043, 662.96587098,\n",
       "       507.83559638, 309.61357884, 397.95165188, 199.72963434,\n",
       "       387.17871614, 658.65669669, 441.04339482, 395.79706473,\n",
       "       652.19293524, 841.7966042 , 581.09155939, 352.70532179,\n",
       "       734.06724684, 350.55073464, 253.59431301, 449.66174341,\n",
       "       637.11082521, 135.09201992, 594.01908227, 669.42963242,\n",
       "       699.59385248, 598.32825656, 469.05302773, 912.89798005,\n",
       "       697.43926533, 835.33284275, 527.22688071, 902.12504432,\n",
       "       352.70532179, 423.80669764, 591.86449512, 656.50210954,\n",
       "       548.77275218, 188.9566986 , 641.41999951, 641.41999951,\n",
       "       572.4732108 , 486.28972491, 469.05302773, 632.80165092,\n",
       "       512.14477068, 292.37688166, 729.75807254, 477.67137632,\n",
       "        63.99064406, 395.79706473, 591.86449512, 469.05302773,\n",
       "       568.1640365 , 602.63743086, 736.22183398, 492.75348635,\n",
       "       337.62321175, 656.50210954, 423.80669764, 313.92275314,\n",
       "       458.280092  , 419.49752335, 456.12550485, 559.54568791,\n",
       "       522.91770641, 206.19339578, 742.68559543, 673.73880672,\n",
       "       367.78743182, 690.97550389, 712.52137536, 520.76311927,\n",
       "       309.61357884, 626.33788948, 803.01403555, 576.78238509,\n",
       "       738.37642113, 645.7291738 , 453.9709177 , 578.93697224,\n",
       "       566.00944936, 589.70990798, 447.50715626, 434.57963338,\n",
       "       555.23651362, 509.99018353, 641.41999951, 475.51678917,\n",
       "       441.04339482, 703.90302678, 410.87917476, 462.58926629,\n",
       "       410.87917476, 305.30440455])"
      ]
     },
     "execution_count": 14,
     "metadata": {},
     "output_type": "execute_result"
    }
   ],
   "source": [
    "y_pred"
   ]
  },
  {
   "cell_type": "code",
   "execution_count": 15,
   "id": "c025d71d",
   "metadata": {
    "execution": {
     "iopub.execute_input": "2023-03-08T14:38:01.572020Z",
     "iopub.status.busy": "2023-03-08T14:38:01.571607Z",
     "iopub.status.idle": "2023-03-08T14:38:01.576558Z",
     "shell.execute_reply": "2023-03-08T14:38:01.575216Z"
    },
    "id": "OUAnoDSxop6U",
    "papermill": {
     "duration": 0.016144,
     "end_time": "2023-03-08T14:38:01.579210",
     "exception": false,
     "start_time": "2023-03-08T14:38:01.563066",
     "status": "completed"
    },
    "tags": []
   },
   "outputs": [],
   "source": [
    "# Step 8 : model accuracy\n",
    "from sklearn.metrics import mean_absolute_error, mean_absolute_percentage_error, mean_squared_error"
   ]
  },
  {
   "cell_type": "code",
   "execution_count": 16,
   "id": "059d4c07",
   "metadata": {
    "execution": {
     "iopub.execute_input": "2023-03-08T14:38:01.596282Z",
     "iopub.status.busy": "2023-03-08T14:38:01.595820Z",
     "iopub.status.idle": "2023-03-08T14:38:01.604042Z",
     "shell.execute_reply": "2023-03-08T14:38:01.602742Z"
    },
    "id": "XQR6clZTop6U",
    "outputId": "823f9498-258a-4d82-e5e3-c71e984803fa",
    "papermill": {
     "duration": 0.019771,
     "end_time": "2023-03-08T14:38:01.606432",
     "exception": false,
     "start_time": "2023-03-08T14:38:01.586661",
     "status": "completed"
    },
    "tags": []
   },
   "outputs": [
    {
     "data": {
      "text/plain": [
       "19.13868744427074"
      ]
     },
     "execution_count": 16,
     "metadata": {},
     "output_type": "execute_result"
    }
   ],
   "source": [
    "mean_absolute_error(y_test,y_pred)"
   ]
  },
  {
   "cell_type": "code",
   "execution_count": 17,
   "id": "8f206654",
   "metadata": {
    "execution": {
     "iopub.execute_input": "2023-03-08T14:38:01.623924Z",
     "iopub.status.busy": "2023-03-08T14:38:01.623523Z",
     "iopub.status.idle": "2023-03-08T14:38:01.633305Z",
     "shell.execute_reply": "2023-03-08T14:38:01.631942Z"
    },
    "id": "Cqgon9BZop6U",
    "outputId": "4beae0bc-7771-4459-dcb2-505a0ae1e129",
    "papermill": {
     "duration": 0.021803,
     "end_time": "2023-03-08T14:38:01.636100",
     "exception": false,
     "start_time": "2023-03-08T14:38:01.614297",
     "status": "completed"
    },
    "tags": []
   },
   "outputs": [
    {
     "data": {
      "text/plain": [
       "0.042214848219420134"
      ]
     },
     "execution_count": 17,
     "metadata": {},
     "output_type": "execute_result"
    }
   ],
   "source": [
    "mean_absolute_percentage_error(y_test,y_pred)"
   ]
  },
  {
   "cell_type": "code",
   "execution_count": 18,
   "id": "be5fe7d4",
   "metadata": {
    "execution": {
     "iopub.execute_input": "2023-03-08T14:38:01.655602Z",
     "iopub.status.busy": "2023-03-08T14:38:01.654318Z",
     "iopub.status.idle": "2023-03-08T14:38:01.663931Z",
     "shell.execute_reply": "2023-03-08T14:38:01.663049Z"
    },
    "id": "8EMb3MDfop6U",
    "outputId": "db16b6b8-88e7-4fe1-c8da-bf3fad8bcbdf",
    "papermill": {
     "duration": 0.02183,
     "end_time": "2023-03-08T14:38:01.666842",
     "exception": false,
     "start_time": "2023-03-08T14:38:01.645012",
     "status": "completed"
    },
    "tags": []
   },
   "outputs": [
    {
     "data": {
      "text/plain": [
       "583.7362763558348"
      ]
     },
     "execution_count": 18,
     "metadata": {},
     "output_type": "execute_result"
    }
   ],
   "source": [
    "mean_squared_error(y_test,y_pred)"
   ]
  }
 ],
 "metadata": {
  "kernelspec": {
   "display_name": "Python 3",
   "language": "python",
   "name": "python3"
  },
  "language_info": {
   "codemirror_mode": {
    "name": "ipython",
    "version": 3
   },
   "file_extension": ".py",
   "mimetype": "text/x-python",
   "name": "python",
   "nbconvert_exporter": "python",
   "pygments_lexer": "ipython3",
   "version": "3.10.9"
  },
  "papermill": {
   "default_parameters": {},
   "duration": 14.754981,
   "end_time": "2023-03-08T14:38:02.561951",
   "environment_variables": {},
   "exception": null,
   "input_path": "__notebook__.ipynb",
   "output_path": "__notebook__.ipynb",
   "parameters": {},
   "start_time": "2023-03-08T14:37:47.806970",
   "version": "2.4.0"
  }
 },
 "nbformat": 4,
 "nbformat_minor": 5
}
