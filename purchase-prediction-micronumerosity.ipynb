{
 "cells": [
  {
   "cell_type": "markdown",
   "id": "19dd7a4e",
   "metadata": {
    "id": "fW_q97XOQxCO",
    "papermill": {
     "duration": 0.005365,
     "end_time": "2023-03-08T14:10:28.086657",
     "exception": false,
     "start_time": "2023-03-08T14:10:28.081292",
     "status": "completed"
    },
    "tags": []
   },
   "source": [
    "# **Customer Purchase Prediction & Effect of Micro-Numerosity**"
   ]
  },
  {
   "cell_type": "code",
   "execution_count": 1,
   "id": "0a51c5c2",
   "metadata": {
    "execution": {
     "iopub.execute_input": "2023-03-08T14:10:28.110731Z",
     "iopub.status.busy": "2023-03-08T14:10:28.110248Z",
     "iopub.status.idle": "2023-03-08T14:10:28.119230Z",
     "shell.execute_reply": "2023-03-08T14:10:28.118449Z"
    },
    "id": "s428TuF4QxCO",
    "papermill": {
     "duration": 0.018403,
     "end_time": "2023-03-08T14:10:28.121527",
     "exception": false,
     "start_time": "2023-03-08T14:10:28.103124",
     "status": "completed"
    },
    "tags": []
   },
   "outputs": [],
   "source": [
    "# Step 1 : import library\n",
    "import pandas as pd"
   ]
  },
  {
   "cell_type": "code",
   "execution_count": 2,
   "id": "b48cba21",
   "metadata": {
    "execution": {
     "iopub.execute_input": "2023-03-08T14:10:28.136579Z",
     "iopub.status.busy": "2023-03-08T14:10:28.136217Z",
     "iopub.status.idle": "2023-03-08T14:10:28.553146Z",
     "shell.execute_reply": "2023-03-08T14:10:28.552229Z"
    },
    "id": "UbcJtCfOQxCP",
    "papermill": {
     "duration": 0.426665,
     "end_time": "2023-03-08T14:10:28.555781",
     "exception": false,
     "start_time": "2023-03-08T14:10:28.129116",
     "status": "completed"
    },
    "tags": []
   },
   "outputs": [],
   "source": [
    "# Step 2 : import data\n",
    "purchase = pd.read_csv('https://github.com/YBIFoundation/Dataset/raw/main/Customer%20Purchase.csv')"
   ]
  },
  {
   "cell_type": "code",
   "execution_count": 3,
   "id": "a0a9b225",
   "metadata": {
    "execution": {
     "iopub.execute_input": "2023-03-08T14:10:28.569031Z",
     "iopub.status.busy": "2023-03-08T14:10:28.568697Z",
     "iopub.status.idle": "2023-03-08T14:10:28.592926Z",
     "shell.execute_reply": "2023-03-08T14:10:28.591750Z"
    },
    "id": "U6M8WJdlQxCP",
    "outputId": "e9849e31-e09a-434e-835a-3dd924407d30",
    "papermill": {
     "duration": 0.033563,
     "end_time": "2023-03-08T14:10:28.595339",
     "exception": false,
     "start_time": "2023-03-08T14:10:28.561776",
     "status": "completed"
    },
    "tags": []
   },
   "outputs": [
    {
     "data": {
      "text/html": [
       "<div>\n",
       "<style scoped>\n",
       "    .dataframe tbody tr th:only-of-type {\n",
       "        vertical-align: middle;\n",
       "    }\n",
       "\n",
       "    .dataframe tbody tr th {\n",
       "        vertical-align: top;\n",
       "    }\n",
       "\n",
       "    .dataframe thead th {\n",
       "        text-align: right;\n",
       "    }\n",
       "</style>\n",
       "<table border=\"1\" class=\"dataframe\">\n",
       "  <thead>\n",
       "    <tr style=\"text-align: right;\">\n",
       "      <th></th>\n",
       "      <th>Customer ID</th>\n",
       "      <th>Age</th>\n",
       "      <th>Gender</th>\n",
       "      <th>Education</th>\n",
       "      <th>Review</th>\n",
       "      <th>Purchased</th>\n",
       "    </tr>\n",
       "  </thead>\n",
       "  <tbody>\n",
       "    <tr>\n",
       "      <th>0</th>\n",
       "      <td>1021</td>\n",
       "      <td>30</td>\n",
       "      <td>Female</td>\n",
       "      <td>School</td>\n",
       "      <td>Average</td>\n",
       "      <td>No</td>\n",
       "    </tr>\n",
       "    <tr>\n",
       "      <th>1</th>\n",
       "      <td>1022</td>\n",
       "      <td>68</td>\n",
       "      <td>Female</td>\n",
       "      <td>UG</td>\n",
       "      <td>Poor</td>\n",
       "      <td>No</td>\n",
       "    </tr>\n",
       "    <tr>\n",
       "      <th>2</th>\n",
       "      <td>1023</td>\n",
       "      <td>70</td>\n",
       "      <td>Female</td>\n",
       "      <td>PG</td>\n",
       "      <td>Good</td>\n",
       "      <td>No</td>\n",
       "    </tr>\n",
       "    <tr>\n",
       "      <th>3</th>\n",
       "      <td>1024</td>\n",
       "      <td>72</td>\n",
       "      <td>Female</td>\n",
       "      <td>PG</td>\n",
       "      <td>Good</td>\n",
       "      <td>No</td>\n",
       "    </tr>\n",
       "    <tr>\n",
       "      <th>4</th>\n",
       "      <td>1025</td>\n",
       "      <td>16</td>\n",
       "      <td>Female</td>\n",
       "      <td>UG</td>\n",
       "      <td>Average</td>\n",
       "      <td>No</td>\n",
       "    </tr>\n",
       "  </tbody>\n",
       "</table>\n",
       "</div>"
      ],
      "text/plain": [
       "   Customer ID  Age  Gender Education   Review Purchased\n",
       "0         1021   30  Female    School  Average        No\n",
       "1         1022   68  Female        UG     Poor        No\n",
       "2         1023   70  Female        PG     Good        No\n",
       "3         1024   72  Female        PG     Good        No\n",
       "4         1025   16  Female        UG  Average        No"
      ]
     },
     "execution_count": 3,
     "metadata": {},
     "output_type": "execute_result"
    }
   ],
   "source": [
    "purchase.head()"
   ]
  },
  {
   "cell_type": "code",
   "execution_count": 4,
   "id": "13f1b66f",
   "metadata": {
    "execution": {
     "iopub.execute_input": "2023-03-08T14:10:28.608237Z",
     "iopub.status.busy": "2023-03-08T14:10:28.607939Z",
     "iopub.status.idle": "2023-03-08T14:10:28.629625Z",
     "shell.execute_reply": "2023-03-08T14:10:28.628157Z"
    },
    "id": "HJLL1JSMQxCP",
    "outputId": "e430f13e-263e-4b5e-aa21-b542ca3a7567",
    "papermill": {
     "duration": 0.030801,
     "end_time": "2023-03-08T14:10:28.632067",
     "exception": false,
     "start_time": "2023-03-08T14:10:28.601266",
     "status": "completed"
    },
    "tags": []
   },
   "outputs": [
    {
     "name": "stdout",
     "output_type": "stream",
     "text": [
      "<class 'pandas.core.frame.DataFrame'>\n",
      "RangeIndex: 50 entries, 0 to 49\n",
      "Data columns (total 6 columns):\n",
      " #   Column       Non-Null Count  Dtype \n",
      "---  ------       --------------  ----- \n",
      " 0   Customer ID  50 non-null     int64 \n",
      " 1   Age          50 non-null     int64 \n",
      " 2   Gender       50 non-null     object\n",
      " 3   Education    50 non-null     object\n",
      " 4   Review       50 non-null     object\n",
      " 5   Purchased    50 non-null     object\n",
      "dtypes: int64(2), object(4)\n",
      "memory usage: 2.5+ KB\n"
     ]
    }
   ],
   "source": [
    "purchase.info()"
   ]
  },
  {
   "cell_type": "code",
   "execution_count": 5,
   "id": "e08cd08f",
   "metadata": {
    "execution": {
     "iopub.execute_input": "2023-03-08T14:10:28.645766Z",
     "iopub.status.busy": "2023-03-08T14:10:28.645453Z",
     "iopub.status.idle": "2023-03-08T14:10:28.664561Z",
     "shell.execute_reply": "2023-03-08T14:10:28.663277Z"
    },
    "id": "nLYBVRUGQxCQ",
    "outputId": "dffec115-6ad2-4294-c5cf-7e91c59e7713",
    "papermill": {
     "duration": 0.028673,
     "end_time": "2023-03-08T14:10:28.666829",
     "exception": false,
     "start_time": "2023-03-08T14:10:28.638156",
     "status": "completed"
    },
    "tags": []
   },
   "outputs": [
    {
     "data": {
      "text/html": [
       "<div>\n",
       "<style scoped>\n",
       "    .dataframe tbody tr th:only-of-type {\n",
       "        vertical-align: middle;\n",
       "    }\n",
       "\n",
       "    .dataframe tbody tr th {\n",
       "        vertical-align: top;\n",
       "    }\n",
       "\n",
       "    .dataframe thead th {\n",
       "        text-align: right;\n",
       "    }\n",
       "</style>\n",
       "<table border=\"1\" class=\"dataframe\">\n",
       "  <thead>\n",
       "    <tr style=\"text-align: right;\">\n",
       "      <th></th>\n",
       "      <th>Customer ID</th>\n",
       "      <th>Age</th>\n",
       "    </tr>\n",
       "  </thead>\n",
       "  <tbody>\n",
       "    <tr>\n",
       "      <th>count</th>\n",
       "      <td>50.00000</td>\n",
       "      <td>50.000000</td>\n",
       "    </tr>\n",
       "    <tr>\n",
       "      <th>mean</th>\n",
       "      <td>1045.50000</td>\n",
       "      <td>54.160000</td>\n",
       "    </tr>\n",
       "    <tr>\n",
       "      <th>std</th>\n",
       "      <td>14.57738</td>\n",
       "      <td>25.658161</td>\n",
       "    </tr>\n",
       "    <tr>\n",
       "      <th>min</th>\n",
       "      <td>1021.00000</td>\n",
       "      <td>15.000000</td>\n",
       "    </tr>\n",
       "    <tr>\n",
       "      <th>25%</th>\n",
       "      <td>1033.25000</td>\n",
       "      <td>30.250000</td>\n",
       "    </tr>\n",
       "    <tr>\n",
       "      <th>50%</th>\n",
       "      <td>1045.50000</td>\n",
       "      <td>57.000000</td>\n",
       "    </tr>\n",
       "    <tr>\n",
       "      <th>75%</th>\n",
       "      <td>1057.75000</td>\n",
       "      <td>74.000000</td>\n",
       "    </tr>\n",
       "    <tr>\n",
       "      <th>max</th>\n",
       "      <td>1070.00000</td>\n",
       "      <td>98.000000</td>\n",
       "    </tr>\n",
       "  </tbody>\n",
       "</table>\n",
       "</div>"
      ],
      "text/plain": [
       "       Customer ID        Age\n",
       "count     50.00000  50.000000\n",
       "mean    1045.50000  54.160000\n",
       "std       14.57738  25.658161\n",
       "min     1021.00000  15.000000\n",
       "25%     1033.25000  30.250000\n",
       "50%     1045.50000  57.000000\n",
       "75%     1057.75000  74.000000\n",
       "max     1070.00000  98.000000"
      ]
     },
     "execution_count": 5,
     "metadata": {},
     "output_type": "execute_result"
    }
   ],
   "source": [
    "purchase.describe()"
   ]
  },
  {
   "cell_type": "code",
   "execution_count": 6,
   "id": "17c9b4e3",
   "metadata": {
    "execution": {
     "iopub.execute_input": "2023-03-08T14:10:28.682010Z",
     "iopub.status.busy": "2023-03-08T14:10:28.681679Z",
     "iopub.status.idle": "2023-03-08T14:10:28.685732Z",
     "shell.execute_reply": "2023-03-08T14:10:28.684666Z"
    },
    "id": "D1gAZE4DQxCQ",
    "papermill": {
     "duration": 0.0142,
     "end_time": "2023-03-08T14:10:28.687840",
     "exception": false,
     "start_time": "2023-03-08T14:10:28.673640",
     "status": "completed"
    },
    "tags": []
   },
   "outputs": [],
   "source": [
    "# Step 3 : define target (y) and features (X)"
   ]
  },
  {
   "cell_type": "code",
   "execution_count": 7,
   "id": "7bd7eb01",
   "metadata": {
    "execution": {
     "iopub.execute_input": "2023-03-08T14:10:28.702805Z",
     "iopub.status.busy": "2023-03-08T14:10:28.702453Z",
     "iopub.status.idle": "2023-03-08T14:10:28.709058Z",
     "shell.execute_reply": "2023-03-08T14:10:28.708008Z"
    },
    "id": "yMztb7ZzQxCQ",
    "outputId": "a65a3a7a-4328-4161-a09c-e6758365e6fa",
    "papermill": {
     "duration": 0.017322,
     "end_time": "2023-03-08T14:10:28.711602",
     "exception": false,
     "start_time": "2023-03-08T14:10:28.694280",
     "status": "completed"
    },
    "tags": []
   },
   "outputs": [
    {
     "data": {
      "text/plain": [
       "Index(['Customer ID', 'Age', 'Gender', 'Education', 'Review', 'Purchased'], dtype='object')"
      ]
     },
     "execution_count": 7,
     "metadata": {},
     "output_type": "execute_result"
    }
   ],
   "source": [
    "purchase.columns"
   ]
  },
  {
   "cell_type": "code",
   "execution_count": 8,
   "id": "fc770e6d",
   "metadata": {
    "execution": {
     "iopub.execute_input": "2023-03-08T14:10:28.727987Z",
     "iopub.status.busy": "2023-03-08T14:10:28.727651Z",
     "iopub.status.idle": "2023-03-08T14:10:28.732256Z",
     "shell.execute_reply": "2023-03-08T14:10:28.731219Z"
    },
    "id": "eXg6gZrLQxCR",
    "papermill": {
     "duration": 0.014856,
     "end_time": "2023-03-08T14:10:28.734208",
     "exception": false,
     "start_time": "2023-03-08T14:10:28.719352",
     "status": "completed"
    },
    "tags": []
   },
   "outputs": [],
   "source": [
    "y = purchase['Purchased']"
   ]
  },
  {
   "cell_type": "code",
   "execution_count": 9,
   "id": "d916eb6e",
   "metadata": {
    "execution": {
     "iopub.execute_input": "2023-03-08T14:10:28.749459Z",
     "iopub.status.busy": "2023-03-08T14:10:28.749121Z",
     "iopub.status.idle": "2023-03-08T14:10:28.754973Z",
     "shell.execute_reply": "2023-03-08T14:10:28.753922Z"
    },
    "id": "qbDTOg1fQxCR",
    "papermill": {
     "duration": 0.015981,
     "end_time": "2023-03-08T14:10:28.757261",
     "exception": false,
     "start_time": "2023-03-08T14:10:28.741280",
     "status": "completed"
    },
    "tags": []
   },
   "outputs": [],
   "source": [
    "X = purchase.drop(['Purchased','Customer ID'],axis=1)"
   ]
  },
  {
   "cell_type": "code",
   "execution_count": 10,
   "id": "8f277da0",
   "metadata": {
    "execution": {
     "iopub.execute_input": "2023-03-08T14:10:28.772679Z",
     "iopub.status.busy": "2023-03-08T14:10:28.772364Z",
     "iopub.status.idle": "2023-03-08T14:10:28.782630Z",
     "shell.execute_reply": "2023-03-08T14:10:28.781612Z"
    },
    "id": "sk9-0cTDZuGB",
    "papermill": {
     "duration": 0.020813,
     "end_time": "2023-03-08T14:10:28.785161",
     "exception": false,
     "start_time": "2023-03-08T14:10:28.764348",
     "status": "completed"
    },
    "tags": []
   },
   "outputs": [],
   "source": [
    "# encoding categorical variable\n",
    "X.replace({'Review':{'Poor':0,'Average':1,'Good':2}},inplace=True)\n",
    "X.replace({'Education':{'School':0,'UG':1,'PG':2}},inplace=True)\n",
    "X.replace({'Gender':{'Male': 0,'Female':1}},inplace=True)\n",
    "          "
   ]
  },
  {
   "cell_type": "code",
   "execution_count": 11,
   "id": "e338138a",
   "metadata": {
    "execution": {
     "iopub.execute_input": "2023-03-08T14:10:28.801007Z",
     "iopub.status.busy": "2023-03-08T14:10:28.800336Z",
     "iopub.status.idle": "2023-03-08T14:10:28.810212Z",
     "shell.execute_reply": "2023-03-08T14:10:28.809163Z"
    },
    "id": "f1vvjUWjb2Y3",
    "outputId": "3ea7332b-200b-4fcf-bc0f-1c8231c78fa9",
    "papermill": {
     "duration": 0.020628,
     "end_time": "2023-03-08T14:10:28.812807",
     "exception": false,
     "start_time": "2023-03-08T14:10:28.792179",
     "status": "completed"
    },
    "tags": []
   },
   "outputs": [
    {
     "data": {
      "text/html": [
       "<div>\n",
       "<style scoped>\n",
       "    .dataframe tbody tr th:only-of-type {\n",
       "        vertical-align: middle;\n",
       "    }\n",
       "\n",
       "    .dataframe tbody tr th {\n",
       "        vertical-align: top;\n",
       "    }\n",
       "\n",
       "    .dataframe thead th {\n",
       "        text-align: right;\n",
       "    }\n",
       "</style>\n",
       "<table border=\"1\" class=\"dataframe\">\n",
       "  <thead>\n",
       "    <tr style=\"text-align: right;\">\n",
       "      <th></th>\n",
       "      <th>Age</th>\n",
       "      <th>Gender</th>\n",
       "      <th>Education</th>\n",
       "      <th>Review</th>\n",
       "    </tr>\n",
       "  </thead>\n",
       "  <tbody>\n",
       "    <tr>\n",
       "      <th>0</th>\n",
       "      <td>30</td>\n",
       "      <td>1</td>\n",
       "      <td>0</td>\n",
       "      <td>1</td>\n",
       "    </tr>\n",
       "    <tr>\n",
       "      <th>1</th>\n",
       "      <td>68</td>\n",
       "      <td>1</td>\n",
       "      <td>1</td>\n",
       "      <td>0</td>\n",
       "    </tr>\n",
       "    <tr>\n",
       "      <th>2</th>\n",
       "      <td>70</td>\n",
       "      <td>1</td>\n",
       "      <td>2</td>\n",
       "      <td>2</td>\n",
       "    </tr>\n",
       "    <tr>\n",
       "      <th>3</th>\n",
       "      <td>72</td>\n",
       "      <td>1</td>\n",
       "      <td>2</td>\n",
       "      <td>2</td>\n",
       "    </tr>\n",
       "    <tr>\n",
       "      <th>4</th>\n",
       "      <td>16</td>\n",
       "      <td>1</td>\n",
       "      <td>1</td>\n",
       "      <td>1</td>\n",
       "    </tr>\n",
       "  </tbody>\n",
       "</table>\n",
       "</div>"
      ],
      "text/plain": [
       "   Age  Gender  Education  Review\n",
       "0   30       1          0       1\n",
       "1   68       1          1       0\n",
       "2   70       1          2       2\n",
       "3   72       1          2       2\n",
       "4   16       1          1       1"
      ]
     },
     "execution_count": 11,
     "metadata": {},
     "output_type": "execute_result"
    }
   ],
   "source": [
    "# display first 5 rows\n",
    "X.head()"
   ]
  },
  {
   "cell_type": "code",
   "execution_count": 12,
   "id": "6505ee0e",
   "metadata": {
    "execution": {
     "iopub.execute_input": "2023-03-08T14:10:28.829300Z",
     "iopub.status.busy": "2023-03-08T14:10:28.828773Z",
     "iopub.status.idle": "2023-03-08T14:10:29.752608Z",
     "shell.execute_reply": "2023-03-08T14:10:29.751732Z"
    },
    "id": "gYFHLJbiQxCR",
    "papermill": {
     "duration": 0.935162,
     "end_time": "2023-03-08T14:10:29.755211",
     "exception": false,
     "start_time": "2023-03-08T14:10:28.820049",
     "status": "completed"
    },
    "tags": []
   },
   "outputs": [],
   "source": [
    "# Step 4 : train test split\n",
    "from sklearn.model_selection import train_test_split\n",
    "X_train, X_test, y_train, y_test = train_test_split(X,y, train_size=0.8, random_state=2529)"
   ]
  },
  {
   "cell_type": "code",
   "execution_count": 13,
   "id": "c9e289ae",
   "metadata": {
    "execution": {
     "iopub.execute_input": "2023-03-08T14:10:29.771697Z",
     "iopub.status.busy": "2023-03-08T14:10:29.771266Z",
     "iopub.status.idle": "2023-03-08T14:10:29.778966Z",
     "shell.execute_reply": "2023-03-08T14:10:29.777709Z"
    },
    "id": "8c5CCQp5QxCR",
    "outputId": "a92a0577-4ce2-4242-8cfa-b035a508c3dd",
    "papermill": {
     "duration": 0.018625,
     "end_time": "2023-03-08T14:10:29.781276",
     "exception": false,
     "start_time": "2023-03-08T14:10:29.762651",
     "status": "completed"
    },
    "tags": []
   },
   "outputs": [
    {
     "data": {
      "text/plain": [
       "((40, 4), (10, 4), (40,), (10,))"
      ]
     },
     "execution_count": 13,
     "metadata": {},
     "output_type": "execute_result"
    }
   ],
   "source": [
    "# check shape of train and test sample\n",
    "X_train.shape, X_test.shape, y_train.shape, y_test.shape"
   ]
  },
  {
   "cell_type": "code",
   "execution_count": 14,
   "id": "2eb207bd",
   "metadata": {
    "execution": {
     "iopub.execute_input": "2023-03-08T14:10:29.798425Z",
     "iopub.status.busy": "2023-03-08T14:10:29.797361Z",
     "iopub.status.idle": "2023-03-08T14:10:30.116992Z",
     "shell.execute_reply": "2023-03-08T14:10:30.115662Z"
    },
    "id": "Kw3ypGbTQxCR",
    "papermill": {
     "duration": 0.330727,
     "end_time": "2023-03-08T14:10:30.119711",
     "exception": false,
     "start_time": "2023-03-08T14:10:29.788984",
     "status": "completed"
    },
    "tags": []
   },
   "outputs": [],
   "source": [
    "# Step 5 : select model\n",
    "from sklearn.ensemble import RandomForestClassifier\n",
    "model = RandomForestClassifier()"
   ]
  },
  {
   "cell_type": "code",
   "execution_count": 15,
   "id": "5fcee070",
   "metadata": {
    "execution": {
     "iopub.execute_input": "2023-03-08T14:10:30.136562Z",
     "iopub.status.busy": "2023-03-08T14:10:30.136171Z",
     "iopub.status.idle": "2023-03-08T14:10:30.279338Z",
     "shell.execute_reply": "2023-03-08T14:10:30.278175Z"
    },
    "id": "IVtTYQmgQxCS",
    "outputId": "c9a14e48-9801-4675-ba2b-1f3517e9c50b",
    "papermill": {
     "duration": 0.15457,
     "end_time": "2023-03-08T14:10:30.281808",
     "exception": false,
     "start_time": "2023-03-08T14:10:30.127238",
     "status": "completed"
    },
    "tags": []
   },
   "outputs": [
    {
     "data": {
      "text/html": [
       "<style>#sk-container-id-1 {color: black;background-color: white;}#sk-container-id-1 pre{padding: 0;}#sk-container-id-1 div.sk-toggleable {background-color: white;}#sk-container-id-1 label.sk-toggleable__label {cursor: pointer;display: block;width: 100%;margin-bottom: 0;padding: 0.3em;box-sizing: border-box;text-align: center;}#sk-container-id-1 label.sk-toggleable__label-arrow:before {content: \"▸\";float: left;margin-right: 0.25em;color: #696969;}#sk-container-id-1 label.sk-toggleable__label-arrow:hover:before {color: black;}#sk-container-id-1 div.sk-estimator:hover label.sk-toggleable__label-arrow:before {color: black;}#sk-container-id-1 div.sk-toggleable__content {max-height: 0;max-width: 0;overflow: hidden;text-align: left;background-color: #f0f8ff;}#sk-container-id-1 div.sk-toggleable__content pre {margin: 0.2em;color: black;border-radius: 0.25em;background-color: #f0f8ff;}#sk-container-id-1 input.sk-toggleable__control:checked~div.sk-toggleable__content {max-height: 200px;max-width: 100%;overflow: auto;}#sk-container-id-1 input.sk-toggleable__control:checked~label.sk-toggleable__label-arrow:before {content: \"▾\";}#sk-container-id-1 div.sk-estimator input.sk-toggleable__control:checked~label.sk-toggleable__label {background-color: #d4ebff;}#sk-container-id-1 div.sk-label input.sk-toggleable__control:checked~label.sk-toggleable__label {background-color: #d4ebff;}#sk-container-id-1 input.sk-hidden--visually {border: 0;clip: rect(1px 1px 1px 1px);clip: rect(1px, 1px, 1px, 1px);height: 1px;margin: -1px;overflow: hidden;padding: 0;position: absolute;width: 1px;}#sk-container-id-1 div.sk-estimator {font-family: monospace;background-color: #f0f8ff;border: 1px dotted black;border-radius: 0.25em;box-sizing: border-box;margin-bottom: 0.5em;}#sk-container-id-1 div.sk-estimator:hover {background-color: #d4ebff;}#sk-container-id-1 div.sk-parallel-item::after {content: \"\";width: 100%;border-bottom: 1px solid gray;flex-grow: 1;}#sk-container-id-1 div.sk-label:hover label.sk-toggleable__label {background-color: #d4ebff;}#sk-container-id-1 div.sk-serial::before {content: \"\";position: absolute;border-left: 1px solid gray;box-sizing: border-box;top: 0;bottom: 0;left: 50%;z-index: 0;}#sk-container-id-1 div.sk-serial {display: flex;flex-direction: column;align-items: center;background-color: white;padding-right: 0.2em;padding-left: 0.2em;position: relative;}#sk-container-id-1 div.sk-item {position: relative;z-index: 1;}#sk-container-id-1 div.sk-parallel {display: flex;align-items: stretch;justify-content: center;background-color: white;position: relative;}#sk-container-id-1 div.sk-item::before, #sk-container-id-1 div.sk-parallel-item::before {content: \"\";position: absolute;border-left: 1px solid gray;box-sizing: border-box;top: 0;bottom: 0;left: 50%;z-index: -1;}#sk-container-id-1 div.sk-parallel-item {display: flex;flex-direction: column;z-index: 1;position: relative;background-color: white;}#sk-container-id-1 div.sk-parallel-item:first-child::after {align-self: flex-end;width: 50%;}#sk-container-id-1 div.sk-parallel-item:last-child::after {align-self: flex-start;width: 50%;}#sk-container-id-1 div.sk-parallel-item:only-child::after {width: 0;}#sk-container-id-1 div.sk-dashed-wrapped {border: 1px dashed gray;margin: 0 0.4em 0.5em 0.4em;box-sizing: border-box;padding-bottom: 0.4em;background-color: white;}#sk-container-id-1 div.sk-label label {font-family: monospace;font-weight: bold;display: inline-block;line-height: 1.2em;}#sk-container-id-1 div.sk-label-container {text-align: center;}#sk-container-id-1 div.sk-container {/* jupyter's `normalize.less` sets `[hidden] { display: none; }` but bootstrap.min.css set `[hidden] { display: none !important; }` so we also need the `!important` here to be able to override the default hidden behavior on the sphinx rendered scikit-learn.org. See: https://github.com/scikit-learn/scikit-learn/issues/21755 */display: inline-block !important;position: relative;}#sk-container-id-1 div.sk-text-repr-fallback {display: none;}</style><div id=\"sk-container-id-1\" class=\"sk-top-container\"><div class=\"sk-text-repr-fallback\"><pre>RandomForestClassifier()</pre><b>In a Jupyter environment, please rerun this cell to show the HTML representation or trust the notebook. <br />On GitHub, the HTML representation is unable to render, please try loading this page with nbviewer.org.</b></div><div class=\"sk-container\" hidden><div class=\"sk-item\"><div class=\"sk-estimator sk-toggleable\"><input class=\"sk-toggleable__control sk-hidden--visually\" id=\"sk-estimator-id-1\" type=\"checkbox\" checked><label for=\"sk-estimator-id-1\" class=\"sk-toggleable__label sk-toggleable__label-arrow\">RandomForestClassifier</label><div class=\"sk-toggleable__content\"><pre>RandomForestClassifier()</pre></div></div></div></div></div>"
      ],
      "text/plain": [
       "RandomForestClassifier()"
      ]
     },
     "execution_count": 15,
     "metadata": {},
     "output_type": "execute_result"
    }
   ],
   "source": [
    "# Step 6 : train or fit model\n",
    "model.fit(X_train,y_train)"
   ]
  },
  {
   "cell_type": "code",
   "execution_count": 16,
   "id": "bfd170b2",
   "metadata": {
    "execution": {
     "iopub.execute_input": "2023-03-08T14:10:30.299227Z",
     "iopub.status.busy": "2023-03-08T14:10:30.298847Z",
     "iopub.status.idle": "2023-03-08T14:10:30.317592Z",
     "shell.execute_reply": "2023-03-08T14:10:30.316642Z"
    },
    "id": "gKujUBgDQxCS",
    "papermill": {
     "duration": 0.030349,
     "end_time": "2023-03-08T14:10:30.320251",
     "exception": false,
     "start_time": "2023-03-08T14:10:30.289902",
     "status": "completed"
    },
    "tags": []
   },
   "outputs": [],
   "source": [
    "# Step 7 : predict model\n",
    "y_pred = model.predict(X_test)"
   ]
  },
  {
   "cell_type": "code",
   "execution_count": 17,
   "id": "0efbc0dc",
   "metadata": {
    "execution": {
     "iopub.execute_input": "2023-03-08T14:10:30.337680Z",
     "iopub.status.busy": "2023-03-08T14:10:30.337320Z",
     "iopub.status.idle": "2023-03-08T14:10:30.343511Z",
     "shell.execute_reply": "2023-03-08T14:10:30.342385Z"
    },
    "id": "nQ9pNMP9QxCT",
    "outputId": "a46c756a-6067-42f1-c123-fddb22625bba",
    "papermill": {
     "duration": 0.017641,
     "end_time": "2023-03-08T14:10:30.345707",
     "exception": false,
     "start_time": "2023-03-08T14:10:30.328066",
     "status": "completed"
    },
    "tags": []
   },
   "outputs": [
    {
     "data": {
      "text/plain": [
       "array(['No', 'Yes', 'No', 'No', 'Yes', 'Yes', 'No', 'No', 'No', 'Yes'],\n",
       "      dtype=object)"
      ]
     },
     "execution_count": 17,
     "metadata": {},
     "output_type": "execute_result"
    }
   ],
   "source": [
    "y_pred"
   ]
  },
  {
   "cell_type": "code",
   "execution_count": 18,
   "id": "88cbc05d",
   "metadata": {
    "execution": {
     "iopub.execute_input": "2023-03-08T14:10:30.362684Z",
     "iopub.status.busy": "2023-03-08T14:10:30.362338Z",
     "iopub.status.idle": "2023-03-08T14:10:30.366968Z",
     "shell.execute_reply": "2023-03-08T14:10:30.365700Z"
    },
    "id": "51k8YbK7QxCT",
    "papermill": {
     "duration": 0.015729,
     "end_time": "2023-03-08T14:10:30.369189",
     "exception": false,
     "start_time": "2023-03-08T14:10:30.353460",
     "status": "completed"
    },
    "tags": []
   },
   "outputs": [],
   "source": [
    "# Step 8 : model accuracy\n",
    "from sklearn.metrics import confusion_matrix, accuracy_score, classification_report"
   ]
  },
  {
   "cell_type": "code",
   "execution_count": 19,
   "id": "0491cae1",
   "metadata": {
    "execution": {
     "iopub.execute_input": "2023-03-08T14:10:30.386845Z",
     "iopub.status.busy": "2023-03-08T14:10:30.385903Z",
     "iopub.status.idle": "2023-03-08T14:10:30.394846Z",
     "shell.execute_reply": "2023-03-08T14:10:30.393748Z"
    },
    "id": "HbD9yc64QxCU",
    "outputId": "5fb4af00-30a5-4a1f-d26a-aac9bd5ac26c",
    "papermill": {
     "duration": 0.020043,
     "end_time": "2023-03-08T14:10:30.397269",
     "exception": false,
     "start_time": "2023-03-08T14:10:30.377226",
     "status": "completed"
    },
    "tags": []
   },
   "outputs": [
    {
     "data": {
      "text/plain": [
       "array([[2, 1],\n",
       "       [4, 3]], dtype=int64)"
      ]
     },
     "execution_count": 19,
     "metadata": {},
     "output_type": "execute_result"
    }
   ],
   "source": [
    "confusion_matrix(y_test,y_pred)"
   ]
  },
  {
   "cell_type": "code",
   "execution_count": 20,
   "id": "5855ff1b",
   "metadata": {
    "execution": {
     "iopub.execute_input": "2023-03-08T14:10:30.414828Z",
     "iopub.status.busy": "2023-03-08T14:10:30.414521Z",
     "iopub.status.idle": "2023-03-08T14:10:30.421235Z",
     "shell.execute_reply": "2023-03-08T14:10:30.420458Z"
    },
    "id": "0SKzenC3QxCU",
    "outputId": "609b6e1b-4704-4107-f8fe-2e04336644b1",
    "papermill": {
     "duration": 0.017933,
     "end_time": "2023-03-08T14:10:30.423204",
     "exception": false,
     "start_time": "2023-03-08T14:10:30.405271",
     "status": "completed"
    },
    "tags": []
   },
   "outputs": [
    {
     "data": {
      "text/plain": [
       "0.5"
      ]
     },
     "execution_count": 20,
     "metadata": {},
     "output_type": "execute_result"
    }
   ],
   "source": [
    "accuracy_score(y_test,y_pred)"
   ]
  },
  {
   "cell_type": "code",
   "execution_count": 21,
   "id": "4c60b084",
   "metadata": {
    "execution": {
     "iopub.execute_input": "2023-03-08T14:10:30.441963Z",
     "iopub.status.busy": "2023-03-08T14:10:30.441038Z",
     "iopub.status.idle": "2023-03-08T14:10:30.451191Z",
     "shell.execute_reply": "2023-03-08T14:10:30.449838Z"
    },
    "id": "oRClm-f4QxCU",
    "outputId": "c5375d68-10bb-42d0-c3ae-f1b4372a0364",
    "papermill": {
     "duration": 0.022701,
     "end_time": "2023-03-08T14:10:30.453954",
     "exception": false,
     "start_time": "2023-03-08T14:10:30.431253",
     "status": "completed"
    },
    "tags": []
   },
   "outputs": [
    {
     "name": "stdout",
     "output_type": "stream",
     "text": [
      "              precision    recall  f1-score   support\n",
      "\n",
      "          No       0.33      0.67      0.44         3\n",
      "         Yes       0.75      0.43      0.55         7\n",
      "\n",
      "    accuracy                           0.50        10\n",
      "   macro avg       0.54      0.55      0.49        10\n",
      "weighted avg       0.62      0.50      0.52        10\n",
      "\n"
     ]
    }
   ],
   "source": [
    "print(classification_report(y_test,y_pred))"
   ]
  }
 ],
 "metadata": {
  "kernelspec": {
   "display_name": "Python 3",
   "language": "python",
   "name": "python3"
  },
  "language_info": {
   "codemirror_mode": {
    "name": "ipython",
    "version": 3
   },
   "file_extension": ".py",
   "mimetype": "text/x-python",
   "name": "python",
   "nbconvert_exporter": "python",
   "pygments_lexer": "ipython3",
   "version": "3.10.9"
  },
  "papermill": {
   "default_parameters": {},
   "duration": 12.329808,
   "end_time": "2023-03-08T14:10:31.250312",
   "environment_variables": {},
   "exception": null,
   "input_path": "__notebook__.ipynb",
   "output_path": "__notebook__.ipynb",
   "parameters": {},
   "start_time": "2023-03-08T14:10:18.920504",
   "version": "2.4.0"
  }
 },
 "nbformat": 4,
 "nbformat_minor": 5
}
