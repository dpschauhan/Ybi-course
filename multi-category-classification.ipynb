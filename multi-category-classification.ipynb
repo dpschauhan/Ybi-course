{
 "cells": [
  {
   "cell_type": "markdown",
   "id": "a2f5e509",
   "metadata": {
    "id": "odsY-omdPNja",
    "papermill": {
     "duration": 0.00612,
     "end_time": "2023-03-07T18:09:51.802545",
     "exception": false,
     "start_time": "2023-03-07T18:09:51.796425",
     "status": "completed"
    },
    "tags": []
   },
   "source": [
    "# **Multi Category Classification**"
   ]
  },
  {
   "cell_type": "code",
   "execution_count": 1,
   "id": "e04cdd58",
   "metadata": {
    "execution": {
     "iopub.execute_input": "2023-03-07T18:09:51.830163Z",
     "iopub.status.busy": "2023-03-07T18:09:51.829731Z",
     "iopub.status.idle": "2023-03-07T18:09:51.838647Z",
     "shell.execute_reply": "2023-03-07T18:09:51.837373Z"
    },
    "id": "qxgHXwuYPNjb",
    "papermill": {
     "duration": 0.019759,
     "end_time": "2023-03-07T18:09:51.841338",
     "exception": false,
     "start_time": "2023-03-07T18:09:51.821579",
     "status": "completed"
    },
    "tags": []
   },
   "outputs": [],
   "source": [
    "# Step 1 : import library\n",
    "import pandas as pd"
   ]
  },
  {
   "cell_type": "code",
   "execution_count": 2,
   "id": "95b60299",
   "metadata": {
    "execution": {
     "iopub.execute_input": "2023-03-07T18:09:51.856388Z",
     "iopub.status.busy": "2023-03-07T18:09:51.855904Z",
     "iopub.status.idle": "2023-03-07T18:09:52.162643Z",
     "shell.execute_reply": "2023-03-07T18:09:52.161566Z"
    },
    "id": "-eD_tpsgPNjb",
    "papermill": {
     "duration": 0.31732,
     "end_time": "2023-03-07T18:09:52.165319",
     "exception": false,
     "start_time": "2023-03-07T18:09:51.847999",
     "status": "completed"
    },
    "tags": []
   },
   "outputs": [],
   "source": [
    "# Step 2 : import data\n",
    "iris = pd.read_csv('https://github.com/YBIFoundation/Dataset/raw/main/IRIS.csv')"
   ]
  },
  {
   "cell_type": "code",
   "execution_count": 3,
   "id": "738fda81",
   "metadata": {
    "execution": {
     "iopub.execute_input": "2023-03-07T18:09:52.179650Z",
     "iopub.status.busy": "2023-03-07T18:09:52.179323Z",
     "iopub.status.idle": "2023-03-07T18:09:52.206398Z",
     "shell.execute_reply": "2023-03-07T18:09:52.204835Z"
    },
    "id": "0nQSgByDPNjb",
    "outputId": "2b6ce24b-dfc6-4f2b-8ac5-b2da29fe096f",
    "papermill": {
     "duration": 0.036906,
     "end_time": "2023-03-07T18:09:52.208725",
     "exception": false,
     "start_time": "2023-03-07T18:09:52.171819",
     "status": "completed"
    },
    "tags": []
   },
   "outputs": [
    {
     "data": {
      "text/html": [
       "<div>\n",
       "<style scoped>\n",
       "    .dataframe tbody tr th:only-of-type {\n",
       "        vertical-align: middle;\n",
       "    }\n",
       "\n",
       "    .dataframe tbody tr th {\n",
       "        vertical-align: top;\n",
       "    }\n",
       "\n",
       "    .dataframe thead th {\n",
       "        text-align: right;\n",
       "    }\n",
       "</style>\n",
       "<table border=\"1\" class=\"dataframe\">\n",
       "  <thead>\n",
       "    <tr style=\"text-align: right;\">\n",
       "      <th></th>\n",
       "      <th>sepal_length</th>\n",
       "      <th>sepal_width</th>\n",
       "      <th>petal_length</th>\n",
       "      <th>petal_width</th>\n",
       "      <th>species</th>\n",
       "    </tr>\n",
       "  </thead>\n",
       "  <tbody>\n",
       "    <tr>\n",
       "      <th>0</th>\n",
       "      <td>5.1</td>\n",
       "      <td>3.5</td>\n",
       "      <td>1.4</td>\n",
       "      <td>0.2</td>\n",
       "      <td>Iris-setosa</td>\n",
       "    </tr>\n",
       "    <tr>\n",
       "      <th>1</th>\n",
       "      <td>4.9</td>\n",
       "      <td>3.0</td>\n",
       "      <td>1.4</td>\n",
       "      <td>0.2</td>\n",
       "      <td>Iris-setosa</td>\n",
       "    </tr>\n",
       "    <tr>\n",
       "      <th>2</th>\n",
       "      <td>4.7</td>\n",
       "      <td>3.2</td>\n",
       "      <td>1.3</td>\n",
       "      <td>0.2</td>\n",
       "      <td>Iris-setosa</td>\n",
       "    </tr>\n",
       "    <tr>\n",
       "      <th>3</th>\n",
       "      <td>4.6</td>\n",
       "      <td>3.1</td>\n",
       "      <td>1.5</td>\n",
       "      <td>0.2</td>\n",
       "      <td>Iris-setosa</td>\n",
       "    </tr>\n",
       "    <tr>\n",
       "      <th>4</th>\n",
       "      <td>5.0</td>\n",
       "      <td>3.6</td>\n",
       "      <td>1.4</td>\n",
       "      <td>0.2</td>\n",
       "      <td>Iris-setosa</td>\n",
       "    </tr>\n",
       "  </tbody>\n",
       "</table>\n",
       "</div>"
      ],
      "text/plain": [
       "   sepal_length  sepal_width  petal_length  petal_width      species\n",
       "0           5.1          3.5           1.4          0.2  Iris-setosa\n",
       "1           4.9          3.0           1.4          0.2  Iris-setosa\n",
       "2           4.7          3.2           1.3          0.2  Iris-setosa\n",
       "3           4.6          3.1           1.5          0.2  Iris-setosa\n",
       "4           5.0          3.6           1.4          0.2  Iris-setosa"
      ]
     },
     "execution_count": 3,
     "metadata": {},
     "output_type": "execute_result"
    }
   ],
   "source": [
    "iris.head()"
   ]
  },
  {
   "cell_type": "code",
   "execution_count": 4,
   "id": "b25d745f",
   "metadata": {
    "execution": {
     "iopub.execute_input": "2023-03-07T18:09:52.224022Z",
     "iopub.status.busy": "2023-03-07T18:09:52.223682Z",
     "iopub.status.idle": "2023-03-07T18:09:52.248421Z",
     "shell.execute_reply": "2023-03-07T18:09:52.246780Z"
    },
    "id": "cBnru3w6PNjb",
    "outputId": "f68bb93a-4625-44fc-af97-aa24bcf31945",
    "papermill": {
     "duration": 0.034673,
     "end_time": "2023-03-07T18:09:52.250482",
     "exception": false,
     "start_time": "2023-03-07T18:09:52.215809",
     "status": "completed"
    },
    "tags": []
   },
   "outputs": [
    {
     "name": "stdout",
     "output_type": "stream",
     "text": [
      "<class 'pandas.core.frame.DataFrame'>\n",
      "RangeIndex: 150 entries, 0 to 149\n",
      "Data columns (total 5 columns):\n",
      " #   Column        Non-Null Count  Dtype  \n",
      "---  ------        --------------  -----  \n",
      " 0   sepal_length  150 non-null    float64\n",
      " 1   sepal_width   150 non-null    float64\n",
      " 2   petal_length  150 non-null    float64\n",
      " 3   petal_width   150 non-null    float64\n",
      " 4   species       150 non-null    object \n",
      "dtypes: float64(4), object(1)\n",
      "memory usage: 6.0+ KB\n"
     ]
    }
   ],
   "source": [
    "iris.info()"
   ]
  },
  {
   "cell_type": "code",
   "execution_count": 5,
   "id": "f0db6e55",
   "metadata": {
    "execution": {
     "iopub.execute_input": "2023-03-07T18:09:52.266342Z",
     "iopub.status.busy": "2023-03-07T18:09:52.265941Z",
     "iopub.status.idle": "2023-03-07T18:09:52.288555Z",
     "shell.execute_reply": "2023-03-07T18:09:52.287638Z"
    },
    "id": "9kbG1t49PNjb",
    "outputId": "5497a056-8397-463a-f507-0fa17b04a907",
    "papermill": {
     "duration": 0.033381,
     "end_time": "2023-03-07T18:09:52.290522",
     "exception": false,
     "start_time": "2023-03-07T18:09:52.257141",
     "status": "completed"
    },
    "tags": []
   },
   "outputs": [
    {
     "data": {
      "text/html": [
       "<div>\n",
       "<style scoped>\n",
       "    .dataframe tbody tr th:only-of-type {\n",
       "        vertical-align: middle;\n",
       "    }\n",
       "\n",
       "    .dataframe tbody tr th {\n",
       "        vertical-align: top;\n",
       "    }\n",
       "\n",
       "    .dataframe thead th {\n",
       "        text-align: right;\n",
       "    }\n",
       "</style>\n",
       "<table border=\"1\" class=\"dataframe\">\n",
       "  <thead>\n",
       "    <tr style=\"text-align: right;\">\n",
       "      <th></th>\n",
       "      <th>sepal_length</th>\n",
       "      <th>sepal_width</th>\n",
       "      <th>petal_length</th>\n",
       "      <th>petal_width</th>\n",
       "    </tr>\n",
       "  </thead>\n",
       "  <tbody>\n",
       "    <tr>\n",
       "      <th>count</th>\n",
       "      <td>150.000000</td>\n",
       "      <td>150.000000</td>\n",
       "      <td>150.000000</td>\n",
       "      <td>150.000000</td>\n",
       "    </tr>\n",
       "    <tr>\n",
       "      <th>mean</th>\n",
       "      <td>5.843333</td>\n",
       "      <td>3.054000</td>\n",
       "      <td>3.758667</td>\n",
       "      <td>1.198667</td>\n",
       "    </tr>\n",
       "    <tr>\n",
       "      <th>std</th>\n",
       "      <td>0.828066</td>\n",
       "      <td>0.433594</td>\n",
       "      <td>1.764420</td>\n",
       "      <td>0.763161</td>\n",
       "    </tr>\n",
       "    <tr>\n",
       "      <th>min</th>\n",
       "      <td>4.300000</td>\n",
       "      <td>2.000000</td>\n",
       "      <td>1.000000</td>\n",
       "      <td>0.100000</td>\n",
       "    </tr>\n",
       "    <tr>\n",
       "      <th>25%</th>\n",
       "      <td>5.100000</td>\n",
       "      <td>2.800000</td>\n",
       "      <td>1.600000</td>\n",
       "      <td>0.300000</td>\n",
       "    </tr>\n",
       "    <tr>\n",
       "      <th>50%</th>\n",
       "      <td>5.800000</td>\n",
       "      <td>3.000000</td>\n",
       "      <td>4.350000</td>\n",
       "      <td>1.300000</td>\n",
       "    </tr>\n",
       "    <tr>\n",
       "      <th>75%</th>\n",
       "      <td>6.400000</td>\n",
       "      <td>3.300000</td>\n",
       "      <td>5.100000</td>\n",
       "      <td>1.800000</td>\n",
       "    </tr>\n",
       "    <tr>\n",
       "      <th>max</th>\n",
       "      <td>7.900000</td>\n",
       "      <td>4.400000</td>\n",
       "      <td>6.900000</td>\n",
       "      <td>2.500000</td>\n",
       "    </tr>\n",
       "  </tbody>\n",
       "</table>\n",
       "</div>"
      ],
      "text/plain": [
       "       sepal_length  sepal_width  petal_length  petal_width\n",
       "count    150.000000   150.000000    150.000000   150.000000\n",
       "mean       5.843333     3.054000      3.758667     1.198667\n",
       "std        0.828066     0.433594      1.764420     0.763161\n",
       "min        4.300000     2.000000      1.000000     0.100000\n",
       "25%        5.100000     2.800000      1.600000     0.300000\n",
       "50%        5.800000     3.000000      4.350000     1.300000\n",
       "75%        6.400000     3.300000      5.100000     1.800000\n",
       "max        7.900000     4.400000      6.900000     2.500000"
      ]
     },
     "execution_count": 5,
     "metadata": {},
     "output_type": "execute_result"
    }
   ],
   "source": [
    "iris.describe()"
   ]
  },
  {
   "cell_type": "code",
   "execution_count": 6,
   "id": "95be6dbd",
   "metadata": {
    "execution": {
     "iopub.execute_input": "2023-03-07T18:09:52.306586Z",
     "iopub.status.busy": "2023-03-07T18:09:52.306206Z",
     "iopub.status.idle": "2023-03-07T18:09:52.311327Z",
     "shell.execute_reply": "2023-03-07T18:09:52.310105Z"
    },
    "id": "1HRcDiftPNjb",
    "papermill": {
     "duration": 0.01593,
     "end_time": "2023-03-07T18:09:52.313349",
     "exception": false,
     "start_time": "2023-03-07T18:09:52.297419",
     "status": "completed"
    },
    "tags": []
   },
   "outputs": [],
   "source": [
    "# Step 3 : define target (y) and features (X)"
   ]
  },
  {
   "cell_type": "code",
   "execution_count": 7,
   "id": "a13403d9",
   "metadata": {
    "execution": {
     "iopub.execute_input": "2023-03-07T18:09:52.328682Z",
     "iopub.status.busy": "2023-03-07T18:09:52.328323Z",
     "iopub.status.idle": "2023-03-07T18:09:52.335569Z",
     "shell.execute_reply": "2023-03-07T18:09:52.334520Z"
    },
    "id": "IgF3WjxVPNjc",
    "outputId": "e293e1d8-83dc-4625-c11a-4399790921e2",
    "papermill": {
     "duration": 0.01738,
     "end_time": "2023-03-07T18:09:52.337606",
     "exception": false,
     "start_time": "2023-03-07T18:09:52.320226",
     "status": "completed"
    },
    "tags": []
   },
   "outputs": [
    {
     "data": {
      "text/plain": [
       "Index(['sepal_length', 'sepal_width', 'petal_length', 'petal_width',\n",
       "       'species'],\n",
       "      dtype='object')"
      ]
     },
     "execution_count": 7,
     "metadata": {},
     "output_type": "execute_result"
    }
   ],
   "source": [
    "iris.columns"
   ]
  },
  {
   "cell_type": "code",
   "execution_count": 8,
   "id": "e487cc18",
   "metadata": {
    "execution": {
     "iopub.execute_input": "2023-03-07T18:09:52.352652Z",
     "iopub.status.busy": "2023-03-07T18:09:52.352320Z",
     "iopub.status.idle": "2023-03-07T18:09:52.356905Z",
     "shell.execute_reply": "2023-03-07T18:09:52.355992Z"
    },
    "id": "_dIY4KzAPNjc",
    "papermill": {
     "duration": 0.014361,
     "end_time": "2023-03-07T18:09:52.358754",
     "exception": false,
     "start_time": "2023-03-07T18:09:52.344393",
     "status": "completed"
    },
    "tags": []
   },
   "outputs": [],
   "source": [
    "y = iris['species']"
   ]
  },
  {
   "cell_type": "code",
   "execution_count": 9,
   "id": "0669bc88",
   "metadata": {
    "execution": {
     "iopub.execute_input": "2023-03-07T18:09:52.374329Z",
     "iopub.status.busy": "2023-03-07T18:09:52.373941Z",
     "iopub.status.idle": "2023-03-07T18:09:52.381034Z",
     "shell.execute_reply": "2023-03-07T18:09:52.379468Z"
    },
    "id": "9sY2TNYIPNjc",
    "papermill": {
     "duration": 0.017684,
     "end_time": "2023-03-07T18:09:52.383459",
     "exception": false,
     "start_time": "2023-03-07T18:09:52.365775",
     "status": "completed"
    },
    "tags": []
   },
   "outputs": [],
   "source": [
    "X = iris.drop(['species'],axis=1)"
   ]
  },
  {
   "cell_type": "code",
   "execution_count": 10,
   "id": "bca55895",
   "metadata": {
    "execution": {
     "iopub.execute_input": "2023-03-07T18:09:52.399236Z",
     "iopub.status.busy": "2023-03-07T18:09:52.398838Z",
     "iopub.status.idle": "2023-03-07T18:09:53.416307Z",
     "shell.execute_reply": "2023-03-07T18:09:53.415206Z"
    },
    "id": "o-akeK2XPNjc",
    "papermill": {
     "duration": 1.028497,
     "end_time": "2023-03-07T18:09:53.418986",
     "exception": false,
     "start_time": "2023-03-07T18:09:52.390489",
     "status": "completed"
    },
    "tags": []
   },
   "outputs": [],
   "source": [
    "# Step 4 : train test split\n",
    "from sklearn.model_selection import train_test_split\n",
    "X_train, X_test, y_train, y_test = train_test_split(X,y, train_size=0.7, random_state=2529)"
   ]
  },
  {
   "cell_type": "code",
   "execution_count": 11,
   "id": "aed3ec94",
   "metadata": {
    "execution": {
     "iopub.execute_input": "2023-03-07T18:09:53.434923Z",
     "iopub.status.busy": "2023-03-07T18:09:53.434502Z",
     "iopub.status.idle": "2023-03-07T18:09:53.442137Z",
     "shell.execute_reply": "2023-03-07T18:09:53.441120Z"
    },
    "id": "ypDPoCk8PNjc",
    "outputId": "f33c71a5-1e6b-46a7-eb06-da54aa3daa3f",
    "papermill": {
     "duration": 0.017976,
     "end_time": "2023-03-07T18:09:53.444088",
     "exception": false,
     "start_time": "2023-03-07T18:09:53.426112",
     "status": "completed"
    },
    "tags": []
   },
   "outputs": [
    {
     "data": {
      "text/plain": [
       "((105, 4), (45, 4), (105,), (45,))"
      ]
     },
     "execution_count": 11,
     "metadata": {},
     "output_type": "execute_result"
    }
   ],
   "source": [
    "# check shape of train and test sample\n",
    "X_train.shape, X_test.shape, y_train.shape, y_test.shape"
   ]
  },
  {
   "cell_type": "code",
   "execution_count": 12,
   "id": "6c75ac42",
   "metadata": {
    "execution": {
     "iopub.execute_input": "2023-03-07T18:09:53.460767Z",
     "iopub.status.busy": "2023-03-07T18:09:53.459752Z",
     "iopub.status.idle": "2023-03-07T18:09:53.548479Z",
     "shell.execute_reply": "2023-03-07T18:09:53.547339Z"
    },
    "id": "KFv6wJ-EPNjc",
    "papermill": {
     "duration": 0.099687,
     "end_time": "2023-03-07T18:09:53.550871",
     "exception": false,
     "start_time": "2023-03-07T18:09:53.451184",
     "status": "completed"
    },
    "tags": []
   },
   "outputs": [],
   "source": [
    "# Step 5 : select model\n",
    "from sklearn.linear_model import LogisticRegression\n",
    "model = LogisticRegression(max_iter=500)"
   ]
  },
  {
   "cell_type": "code",
   "execution_count": 13,
   "id": "01c93d92",
   "metadata": {
    "execution": {
     "iopub.execute_input": "2023-03-07T18:09:53.566584Z",
     "iopub.status.busy": "2023-03-07T18:09:53.566252Z",
     "iopub.status.idle": "2023-03-07T18:09:53.618526Z",
     "shell.execute_reply": "2023-03-07T18:09:53.617559Z"
    },
    "id": "c6RPPK_fPNjc",
    "outputId": "79026726-7650-451e-bd94-3fed1111ed19",
    "papermill": {
     "duration": 0.062428,
     "end_time": "2023-03-07T18:09:53.620512",
     "exception": false,
     "start_time": "2023-03-07T18:09:53.558084",
     "status": "completed"
    },
    "tags": []
   },
   "outputs": [
    {
     "data": {
      "text/html": [
       "<style>#sk-container-id-1 {color: black;background-color: white;}#sk-container-id-1 pre{padding: 0;}#sk-container-id-1 div.sk-toggleable {background-color: white;}#sk-container-id-1 label.sk-toggleable__label {cursor: pointer;display: block;width: 100%;margin-bottom: 0;padding: 0.3em;box-sizing: border-box;text-align: center;}#sk-container-id-1 label.sk-toggleable__label-arrow:before {content: \"▸\";float: left;margin-right: 0.25em;color: #696969;}#sk-container-id-1 label.sk-toggleable__label-arrow:hover:before {color: black;}#sk-container-id-1 div.sk-estimator:hover label.sk-toggleable__label-arrow:before {color: black;}#sk-container-id-1 div.sk-toggleable__content {max-height: 0;max-width: 0;overflow: hidden;text-align: left;background-color: #f0f8ff;}#sk-container-id-1 div.sk-toggleable__content pre {margin: 0.2em;color: black;border-radius: 0.25em;background-color: #f0f8ff;}#sk-container-id-1 input.sk-toggleable__control:checked~div.sk-toggleable__content {max-height: 200px;max-width: 100%;overflow: auto;}#sk-container-id-1 input.sk-toggleable__control:checked~label.sk-toggleable__label-arrow:before {content: \"▾\";}#sk-container-id-1 div.sk-estimator input.sk-toggleable__control:checked~label.sk-toggleable__label {background-color: #d4ebff;}#sk-container-id-1 div.sk-label input.sk-toggleable__control:checked~label.sk-toggleable__label {background-color: #d4ebff;}#sk-container-id-1 input.sk-hidden--visually {border: 0;clip: rect(1px 1px 1px 1px);clip: rect(1px, 1px, 1px, 1px);height: 1px;margin: -1px;overflow: hidden;padding: 0;position: absolute;width: 1px;}#sk-container-id-1 div.sk-estimator {font-family: monospace;background-color: #f0f8ff;border: 1px dotted black;border-radius: 0.25em;box-sizing: border-box;margin-bottom: 0.5em;}#sk-container-id-1 div.sk-estimator:hover {background-color: #d4ebff;}#sk-container-id-1 div.sk-parallel-item::after {content: \"\";width: 100%;border-bottom: 1px solid gray;flex-grow: 1;}#sk-container-id-1 div.sk-label:hover label.sk-toggleable__label {background-color: #d4ebff;}#sk-container-id-1 div.sk-serial::before {content: \"\";position: absolute;border-left: 1px solid gray;box-sizing: border-box;top: 0;bottom: 0;left: 50%;z-index: 0;}#sk-container-id-1 div.sk-serial {display: flex;flex-direction: column;align-items: center;background-color: white;padding-right: 0.2em;padding-left: 0.2em;position: relative;}#sk-container-id-1 div.sk-item {position: relative;z-index: 1;}#sk-container-id-1 div.sk-parallel {display: flex;align-items: stretch;justify-content: center;background-color: white;position: relative;}#sk-container-id-1 div.sk-item::before, #sk-container-id-1 div.sk-parallel-item::before {content: \"\";position: absolute;border-left: 1px solid gray;box-sizing: border-box;top: 0;bottom: 0;left: 50%;z-index: -1;}#sk-container-id-1 div.sk-parallel-item {display: flex;flex-direction: column;z-index: 1;position: relative;background-color: white;}#sk-container-id-1 div.sk-parallel-item:first-child::after {align-self: flex-end;width: 50%;}#sk-container-id-1 div.sk-parallel-item:last-child::after {align-self: flex-start;width: 50%;}#sk-container-id-1 div.sk-parallel-item:only-child::after {width: 0;}#sk-container-id-1 div.sk-dashed-wrapped {border: 1px dashed gray;margin: 0 0.4em 0.5em 0.4em;box-sizing: border-box;padding-bottom: 0.4em;background-color: white;}#sk-container-id-1 div.sk-label label {font-family: monospace;font-weight: bold;display: inline-block;line-height: 1.2em;}#sk-container-id-1 div.sk-label-container {text-align: center;}#sk-container-id-1 div.sk-container {/* jupyter's `normalize.less` sets `[hidden] { display: none; }` but bootstrap.min.css set `[hidden] { display: none !important; }` so we also need the `!important` here to be able to override the default hidden behavior on the sphinx rendered scikit-learn.org. See: https://github.com/scikit-learn/scikit-learn/issues/21755 */display: inline-block !important;position: relative;}#sk-container-id-1 div.sk-text-repr-fallback {display: none;}</style><div id=\"sk-container-id-1\" class=\"sk-top-container\"><div class=\"sk-text-repr-fallback\"><pre>LogisticRegression(max_iter=500)</pre><b>In a Jupyter environment, please rerun this cell to show the HTML representation or trust the notebook. <br />On GitHub, the HTML representation is unable to render, please try loading this page with nbviewer.org.</b></div><div class=\"sk-container\" hidden><div class=\"sk-item\"><div class=\"sk-estimator sk-toggleable\"><input class=\"sk-toggleable__control sk-hidden--visually\" id=\"sk-estimator-id-1\" type=\"checkbox\" checked><label for=\"sk-estimator-id-1\" class=\"sk-toggleable__label sk-toggleable__label-arrow\">LogisticRegression</label><div class=\"sk-toggleable__content\"><pre>LogisticRegression(max_iter=500)</pre></div></div></div></div></div>"
      ],
      "text/plain": [
       "LogisticRegression(max_iter=500)"
      ]
     },
     "execution_count": 13,
     "metadata": {},
     "output_type": "execute_result"
    }
   ],
   "source": [
    "# Step 6 : train or fit model\n",
    "model.fit(X_train,y_train)"
   ]
  },
  {
   "cell_type": "code",
   "execution_count": 14,
   "id": "ced68c99",
   "metadata": {
    "execution": {
     "iopub.execute_input": "2023-03-07T18:09:53.636400Z",
     "iopub.status.busy": "2023-03-07T18:09:53.635982Z",
     "iopub.status.idle": "2023-03-07T18:09:53.642956Z",
     "shell.execute_reply": "2023-03-07T18:09:53.641945Z"
    },
    "id": "vbvo6P78PNjc",
    "outputId": "ce5e4585-ec0d-4a2f-ebc2-fcef1ae73732",
    "papermill": {
     "duration": 0.017356,
     "end_time": "2023-03-07T18:09:53.645077",
     "exception": false,
     "start_time": "2023-03-07T18:09:53.627721",
     "status": "completed"
    },
    "tags": []
   },
   "outputs": [
    {
     "data": {
      "text/plain": [
       "array([  8.84605387,   1.9004091 , -10.74646297])"
      ]
     },
     "execution_count": 14,
     "metadata": {},
     "output_type": "execute_result"
    }
   ],
   "source": [
    "model.intercept_"
   ]
  },
  {
   "cell_type": "code",
   "execution_count": 15,
   "id": "6ce3f5dc",
   "metadata": {
    "execution": {
     "iopub.execute_input": "2023-03-07T18:09:53.661784Z",
     "iopub.status.busy": "2023-03-07T18:09:53.660240Z",
     "iopub.status.idle": "2023-03-07T18:09:53.666958Z",
     "shell.execute_reply": "2023-03-07T18:09:53.666101Z"
    },
    "id": "xg46VpKEPNjd",
    "outputId": "dcc6a16e-d0ca-4217-e563-e3f1ba7feb6b",
    "papermill": {
     "duration": 0.016478,
     "end_time": "2023-03-07T18:09:53.668751",
     "exception": false,
     "start_time": "2023-03-07T18:09:53.652273",
     "status": "completed"
    },
    "tags": []
   },
   "outputs": [
    {
     "data": {
      "text/plain": [
       "array([[-0.40588575,  0.91745008, -2.30014784, -0.98583572],\n",
       "       [ 0.40907428, -0.23719163, -0.09284505, -0.75622039],\n",
       "       [-0.00318853, -0.68025844,  2.39299288,  1.74205611]])"
      ]
     },
     "execution_count": 15,
     "metadata": {},
     "output_type": "execute_result"
    }
   ],
   "source": [
    "model.coef_"
   ]
  },
  {
   "cell_type": "code",
   "execution_count": 16,
   "id": "e840e8de",
   "metadata": {
    "execution": {
     "iopub.execute_input": "2023-03-07T18:09:53.685646Z",
     "iopub.status.busy": "2023-03-07T18:09:53.685137Z",
     "iopub.status.idle": "2023-03-07T18:09:53.689829Z",
     "shell.execute_reply": "2023-03-07T18:09:53.689244Z"
    },
    "id": "x8SsXeZ3PNjd",
    "papermill": {
     "duration": 0.015145,
     "end_time": "2023-03-07T18:09:53.691569",
     "exception": false,
     "start_time": "2023-03-07T18:09:53.676424",
     "status": "completed"
    },
    "tags": []
   },
   "outputs": [],
   "source": [
    "# Step 7 : predict model\n",
    "y_pred = model.predict(X_test)"
   ]
  },
  {
   "cell_type": "code",
   "execution_count": 17,
   "id": "1fb981d6",
   "metadata": {
    "execution": {
     "iopub.execute_input": "2023-03-07T18:09:53.708202Z",
     "iopub.status.busy": "2023-03-07T18:09:53.707705Z",
     "iopub.status.idle": "2023-03-07T18:09:53.713015Z",
     "shell.execute_reply": "2023-03-07T18:09:53.712076Z"
    },
    "id": "ywpRjp-vPNjd",
    "outputId": "68583433-b83e-4f12-8e48-01cc61903dae",
    "papermill": {
     "duration": 0.016176,
     "end_time": "2023-03-07T18:09:53.715287",
     "exception": false,
     "start_time": "2023-03-07T18:09:53.699111",
     "status": "completed"
    },
    "tags": []
   },
   "outputs": [
    {
     "data": {
      "text/plain": [
       "array(['Iris-setosa', 'Iris-setosa', 'Iris-setosa', 'Iris-virginica',\n",
       "       'Iris-virginica', 'Iris-versicolor', 'Iris-virginica',\n",
       "       'Iris-versicolor', 'Iris-virginica', 'Iris-virginica',\n",
       "       'Iris-virginica', 'Iris-versicolor', 'Iris-virginica',\n",
       "       'Iris-virginica', 'Iris-setosa', 'Iris-virginica',\n",
       "       'Iris-versicolor', 'Iris-virginica', 'Iris-setosa', 'Iris-setosa',\n",
       "       'Iris-setosa', 'Iris-setosa', 'Iris-virginica', 'Iris-virginica',\n",
       "       'Iris-versicolor', 'Iris-versicolor', 'Iris-setosa',\n",
       "       'Iris-virginica', 'Iris-virginica', 'Iris-setosa',\n",
       "       'Iris-virginica', 'Iris-virginica', 'Iris-setosa', 'Iris-setosa',\n",
       "       'Iris-virginica', 'Iris-virginica', 'Iris-versicolor',\n",
       "       'Iris-setosa', 'Iris-virginica', 'Iris-setosa', 'Iris-virginica',\n",
       "       'Iris-versicolor', 'Iris-versicolor', 'Iris-versicolor',\n",
       "       'Iris-virginica'], dtype=object)"
      ]
     },
     "execution_count": 17,
     "metadata": {},
     "output_type": "execute_result"
    }
   ],
   "source": [
    "y_pred"
   ]
  },
  {
   "cell_type": "code",
   "execution_count": 18,
   "id": "051bd6dd",
   "metadata": {
    "execution": {
     "iopub.execute_input": "2023-03-07T18:09:53.732843Z",
     "iopub.status.busy": "2023-03-07T18:09:53.731200Z",
     "iopub.status.idle": "2023-03-07T18:09:53.735887Z",
     "shell.execute_reply": "2023-03-07T18:09:53.735288Z"
    },
    "id": "TxW6XQfqPNjd",
    "papermill": {
     "duration": 0.01544,
     "end_time": "2023-03-07T18:09:53.738326",
     "exception": false,
     "start_time": "2023-03-07T18:09:53.722886",
     "status": "completed"
    },
    "tags": []
   },
   "outputs": [],
   "source": [
    "# Step 8 : model accuracy\n",
    "from sklearn.metrics import confusion_matrix, accuracy_score, classification_report"
   ]
  },
  {
   "cell_type": "code",
   "execution_count": 19,
   "id": "d016f68d",
   "metadata": {
    "execution": {
     "iopub.execute_input": "2023-03-07T18:09:53.755728Z",
     "iopub.status.busy": "2023-03-07T18:09:53.754922Z",
     "iopub.status.idle": "2023-03-07T18:09:53.764942Z",
     "shell.execute_reply": "2023-03-07T18:09:53.763453Z"
    },
    "id": "pIGUahf_PNjd",
    "outputId": "9a9da1cd-45d3-442c-db06-c800aba0e15d",
    "papermill": {
     "duration": 0.020839,
     "end_time": "2023-03-07T18:09:53.767121",
     "exception": false,
     "start_time": "2023-03-07T18:09:53.746282",
     "status": "completed"
    },
    "tags": []
   },
   "outputs": [
    {
     "data": {
      "text/plain": [
       "array([[14,  0,  0],\n",
       "       [ 0,  9,  0],\n",
       "       [ 0,  1, 21]], dtype=int64)"
      ]
     },
     "execution_count": 19,
     "metadata": {},
     "output_type": "execute_result"
    }
   ],
   "source": [
    "confusion_matrix(y_test,y_pred)"
   ]
  },
  {
   "cell_type": "code",
   "execution_count": 20,
   "id": "e3f9858f",
   "metadata": {
    "execution": {
     "iopub.execute_input": "2023-03-07T18:09:53.784106Z",
     "iopub.status.busy": "2023-03-07T18:09:53.783686Z",
     "iopub.status.idle": "2023-03-07T18:09:53.790584Z",
     "shell.execute_reply": "2023-03-07T18:09:53.789718Z"
    },
    "id": "XR9x3eMkPNjd",
    "outputId": "b9210d94-ef0c-4d34-bd29-e653837600a3",
    "papermill": {
     "duration": 0.018169,
     "end_time": "2023-03-07T18:09:53.792981",
     "exception": false,
     "start_time": "2023-03-07T18:09:53.774812",
     "status": "completed"
    },
    "tags": []
   },
   "outputs": [
    {
     "data": {
      "text/plain": [
       "0.9777777777777777"
      ]
     },
     "execution_count": 20,
     "metadata": {},
     "output_type": "execute_result"
    }
   ],
   "source": [
    "accuracy_score(y_test,y_pred)"
   ]
  },
  {
   "cell_type": "code",
   "execution_count": 21,
   "id": "59c22800",
   "metadata": {
    "execution": {
     "iopub.execute_input": "2023-03-07T18:09:53.811899Z",
     "iopub.status.busy": "2023-03-07T18:09:53.810929Z",
     "iopub.status.idle": "2023-03-07T18:09:53.820007Z",
     "shell.execute_reply": "2023-03-07T18:09:53.818937Z"
    },
    "id": "u9i6ZLIcPNjd",
    "outputId": "f0dd1417-f424-4833-e9a2-1c97ae35a37e",
    "papermill": {
     "duration": 0.021403,
     "end_time": "2023-03-07T18:09:53.822807",
     "exception": false,
     "start_time": "2023-03-07T18:09:53.801404",
     "status": "completed"
    },
    "tags": []
   },
   "outputs": [
    {
     "name": "stdout",
     "output_type": "stream",
     "text": [
      "                 precision    recall  f1-score   support\n",
      "\n",
      "    Iris-setosa       1.00      1.00      1.00        14\n",
      "Iris-versicolor       0.90      1.00      0.95         9\n",
      " Iris-virginica       1.00      0.95      0.98        22\n",
      "\n",
      "       accuracy                           0.98        45\n",
      "      macro avg       0.97      0.98      0.97        45\n",
      "   weighted avg       0.98      0.98      0.98        45\n",
      "\n"
     ]
    }
   ],
   "source": [
    "print(classification_report(y_test,y_pred))"
   ]
  }
 ],
 "metadata": {
  "kernelspec": {
   "display_name": "Python 3",
   "language": "python",
   "name": "python3"
  },
  "language_info": {
   "codemirror_mode": {
    "name": "ipython",
    "version": 3
   },
   "file_extension": ".py",
   "mimetype": "text/x-python",
   "name": "python",
   "nbconvert_exporter": "python",
   "pygments_lexer": "ipython3",
   "version": "3.10.9"
  },
  "papermill": {
   "default_parameters": {},
   "duration": 11.313953,
   "end_time": "2023-03-07T18:09:54.633272",
   "environment_variables": {},
   "exception": null,
   "input_path": "__notebook__.ipynb",
   "output_path": "__notebook__.ipynb",
   "parameters": {},
   "start_time": "2023-03-07T18:09:43.319319",
   "version": "2.4.0"
  }
 },
 "nbformat": 4,
 "nbformat_minor": 5
}
